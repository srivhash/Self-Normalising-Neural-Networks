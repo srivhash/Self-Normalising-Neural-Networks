{
 "cells": [
  {
   "cell_type": "code",
   "execution_count": 1,
   "metadata": {},
   "outputs": [
    {
     "name": "stderr",
     "output_type": "stream",
     "text": [
      "/Users/JyotiSrivastava/Library/Python/3.9/lib/python/site-packages/urllib3/__init__.py:34: NotOpenSSLWarning: urllib3 v2.0 only supports OpenSSL 1.1.1+, currently the 'ssl' module is compiled with 'LibreSSL 2.8.3'. See: https://github.com/urllib3/urllib3/issues/3020\n",
      "  warnings.warn(\n"
     ]
    }
   ],
   "source": [
    "# Adapted KERAS tutorial \n",
    "import tensorflow as tf\n",
    "import tensorflow.keras as keras\n",
    "from tensorflow.keras.datasets import cifar10\n",
    "from tensorflow.keras.preprocessing.image import ImageDataGenerator\n",
    "from tensorflow.keras.models import Sequential\n",
    "from tensorflow.keras.layers import Dense, AlphaDropout, Activation, Flatten\n",
    "from tensorflow.keras.layers import Conv2D, MaxPooling2D\n",
    "from tensorflow.keras.layers import BatchNormalization"
   ]
  },
  {
   "cell_type": "code",
   "execution_count": 2,
   "metadata": {},
   "outputs": [],
   "source": [
    "import os\n",
    "import pickle\n",
    "import numpy as np"
   ]
  },
  {
   "cell_type": "code",
   "execution_count": 3,
   "metadata": {},
   "outputs": [],
   "source": [
    "batch_size = 32\n",
    "num_classes = 10\n",
    "epochs = 20\n",
    "data_augmentation = True\n",
    "num_predictions = 20\n",
    "save_dir = os.path.join(os.getcwd(), 'saved_models')\n",
    "model_name = 'keras_cifar10_batch_trained_model.h5'"
   ]
  },
  {
   "cell_type": "code",
   "execution_count": 4,
   "metadata": {},
   "outputs": [
    {
     "name": "stdout",
     "output_type": "stream",
     "text": [
      "[PhysicalDevice(name='/physical_device:CPU:0', device_type='CPU')]\n"
     ]
    }
   ],
   "source": [
    "# list devices so you can check whether your gpu is available\n",
    "print(tf.config.list_physical_devices())"
   ]
  },
  {
   "cell_type": "code",
   "execution_count": 5,
   "metadata": {},
   "outputs": [
    {
     "name": "stdout",
     "output_type": "stream",
     "text": [
      "x_train shape: (50000, 32, 32, 3)\n",
      "50000 train samples\n",
      "10000 test samples\n"
     ]
    }
   ],
   "source": [
    "# The data, shuffled and split between train and test sets:\n",
    "(x_train, y_train), (x_test, y_test) = cifar10.load_data()\n",
    "print('x_train shape:', x_train.shape)\n",
    "print(x_train.shape[0], 'train samples')\n",
    "print(x_test.shape[0], 'test samples')\n",
    "\n",
    "# Convert class vectors to binary class matrices.\n",
    "y_train = keras.utils.to_categorical(y_train, num_classes)\n",
    "y_test = keras.utils.to_categorical(y_test, num_classes)"
   ]
  },
  {
   "cell_type": "code",
   "execution_count": 6,
   "metadata": {},
   "outputs": [],
   "source": [
    "model = Sequential()\n",
    "\n",
    "model.add(Conv2D(32, (3, 3), padding='same',\n",
    "                 input_shape=x_train.shape[1:],kernel_initializer='lecun_normal',bias_initializer='zeros'))\n",
    "model.add(BatchNormalization())\n",
    "model.add(Conv2D(32, (3, 3),kernel_initializer='lecun_normal',bias_initializer='zeros'))\n",
    "model.add(BatchNormalization())\n",
    "model.add(MaxPooling2D(pool_size=(2, 2)))\n",
    "model.add(AlphaDropout(0.1))\n",
    "\n",
    "model.add(Conv2D(64, (3, 3), padding='same',kernel_initializer='lecun_normal',bias_initializer='zeros'))\n",
    "model.add(BatchNormalization())\n",
    "model.add(Conv2D(64, (3, 3),kernel_initializer='lecun_normal',bias_initializer='zeros'))\n",
    "model.add(BatchNormalization())\n",
    "model.add(MaxPooling2D(pool_size=(2, 2)))\n",
    "model.add(AlphaDropout(0.1))\n",
    "\n",
    "model.add(Flatten())\n",
    "model.add(Dense(512,kernel_initializer='lecun_normal',bias_initializer='zeros'))\n",
    "model.add(BatchNormalization())\n",
    "model.add(AlphaDropout(0.2))\n",
    "model.add(Dense(num_classes,kernel_initializer='lecun_normal',bias_initializer='zeros'))\n",
    "model.add(Activation('softmax'))"
   ]
  },
  {
   "cell_type": "code",
   "execution_count": 7,
   "metadata": {},
   "outputs": [],
   "source": [
    "# initiate RMSprop optimizer\n",
    "opt = keras.optimizers.legacy.RMSprop(learning_rate=0.0001)\n",
    "\n",
    "# Let's train the model using RMSprop\n",
    "model.compile(loss='categorical_crossentropy',\n",
    "              optimizer=opt,\n",
    "              metrics=['accuracy'])"
   ]
  },
  {
   "cell_type": "code",
   "execution_count": 8,
   "metadata": {},
   "outputs": [],
   "source": [
    "x_train = x_train.astype('float32')\n",
    "x_test = x_test.astype('float32')\n",
    "x_train /= 255\n",
    "x_test /= 255"
   ]
  },
  {
   "cell_type": "code",
   "execution_count": 9,
   "metadata": {},
   "outputs": [
    {
     "name": "stdout",
     "output_type": "stream",
     "text": [
      "Using real-time data augmentation.\n",
      "Epoch 1/20\n",
      "1562/1562 [==============================] - 55s 35ms/step - loss: 1.8456 - accuracy: 0.3614 - val_loss: 2.5902 - val_accuracy: 0.4432\n",
      "Epoch 2/20\n",
      "1562/1562 [==============================] - 56s 36ms/step - loss: 1.5758 - accuracy: 0.4478 - val_loss: 1.9170 - val_accuracy: 0.5384\n",
      "Epoch 3/20\n",
      "1562/1562 [==============================] - 58s 37ms/step - loss: 1.4588 - accuracy: 0.4886 - val_loss: 1.9880 - val_accuracy: 0.5544\n",
      "Epoch 4/20\n",
      "1562/1562 [==============================] - 57s 36ms/step - loss: 1.3900 - accuracy: 0.5148 - val_loss: 1.7324 - val_accuracy: 0.5861\n",
      "Epoch 5/20\n",
      "1562/1562 [==============================] - 56s 36ms/step - loss: 1.3523 - accuracy: 0.5253 - val_loss: 1.6667 - val_accuracy: 0.5925\n",
      "Epoch 6/20\n",
      "1562/1562 [==============================] - 55s 35ms/step - loss: 1.3171 - accuracy: 0.5417 - val_loss: 1.5082 - val_accuracy: 0.6129\n",
      "Epoch 7/20\n",
      "1562/1562 [==============================] - 55s 35ms/step - loss: 1.2917 - accuracy: 0.5516 - val_loss: 1.6160 - val_accuracy: 0.6063\n",
      "Epoch 8/20\n",
      "1562/1562 [==============================] - 54s 35ms/step - loss: 1.2692 - accuracy: 0.5610 - val_loss: 1.4940 - val_accuracy: 0.6208\n",
      "Epoch 9/20\n",
      "1562/1562 [==============================] - 52s 33ms/step - loss: 1.2486 - accuracy: 0.5680 - val_loss: 1.4772 - val_accuracy: 0.6336\n",
      "Epoch 10/20\n",
      "1562/1562 [==============================] - 53s 34ms/step - loss: 1.2353 - accuracy: 0.5729 - val_loss: 1.4881 - val_accuracy: 0.6283\n",
      "Epoch 11/20\n",
      "1562/1562 [==============================] - 56s 36ms/step - loss: 1.2103 - accuracy: 0.5833 - val_loss: 1.4829 - val_accuracy: 0.6365\n",
      "Epoch 12/20\n",
      "1562/1562 [==============================] - 57s 36ms/step - loss: 1.2051 - accuracy: 0.5859 - val_loss: 1.4652 - val_accuracy: 0.6346\n",
      "Epoch 13/20\n",
      "1562/1562 [==============================] - 57s 37ms/step - loss: 1.1864 - accuracy: 0.5895 - val_loss: 1.4453 - val_accuracy: 0.6477\n",
      "Epoch 14/20\n",
      "1562/1562 [==============================] - 56s 36ms/step - loss: 1.1741 - accuracy: 0.5960 - val_loss: 1.4232 - val_accuracy: 0.6514\n",
      "Epoch 15/20\n",
      "1562/1562 [==============================] - 54s 35ms/step - loss: 1.1699 - accuracy: 0.5965 - val_loss: 1.5551 - val_accuracy: 0.6328\n",
      "Epoch 16/20\n",
      "1562/1562 [==============================] - 53s 34ms/step - loss: 1.1605 - accuracy: 0.6018 - val_loss: 1.4667 - val_accuracy: 0.6391\n",
      "Epoch 17/20\n",
      "1562/1562 [==============================] - 55s 35ms/step - loss: 1.1465 - accuracy: 0.6062 - val_loss: 1.3513 - val_accuracy: 0.6588\n",
      "Epoch 18/20\n",
      "1562/1562 [==============================] - 56s 36ms/step - loss: 1.1432 - accuracy: 0.6072 - val_loss: 1.4844 - val_accuracy: 0.6422\n",
      "Epoch 19/20\n",
      "1562/1562 [==============================] - 55s 35ms/step - loss: 1.1365 - accuracy: 0.6086 - val_loss: 1.4743 - val_accuracy: 0.6403\n",
      "Epoch 20/20\n",
      "1562/1562 [==============================] - 55s 35ms/step - loss: 1.1243 - accuracy: 0.6147 - val_loss: 1.4666 - val_accuracy: 0.6509\n"
     ]
    }
   ],
   "source": [
    "if not data_augmentation:\n",
    "    print('Not using data augmentation.')\n",
    "    model.fit(x_train, y_train,\n",
    "              batch_size=batch_size,\n",
    "              epochs=epochs,\n",
    "              validation_data=(x_test, y_test),\n",
    "              shuffle=True)\n",
    "else:\n",
    "    print('Using real-time data augmentation.')\n",
    "    # This will do preprocessing and realtime data augmentation:\n",
    "    datagen = ImageDataGenerator(\n",
    "        featurewise_center=False,  # set input mean to 0 over the dataset\n",
    "        samplewise_center=False,  # set each sample mean to 0\n",
    "        featurewise_std_normalization=False,  # divide inputs by std of the dataset\n",
    "        samplewise_std_normalization=False,  # divide each input by its std\n",
    "        zca_whitening=False,  # apply ZCA whitening\n",
    "        rotation_range=0,  # randomly rotate images in the range (degrees, 0 to 180)\n",
    "        width_shift_range=0.1,  # randomly shift images horizontally (fraction of total width)\n",
    "        height_shift_range=0.1,  # randomly shift images vertically (fraction of total height)\n",
    "        horizontal_flip=True,  # randomly flip images\n",
    "        vertical_flip=False)  # randomly flip images\n",
    "\n",
    "    # Compute quantities required for feature-wise normalization\n",
    "    # (std, mean, and principal components if ZCA whitening is applied).\n",
    "    datagen.fit(x_train)\n",
    "\n",
    "    # Fit the model on the batches generated by datagen.flow().\n",
    "    model.fit(datagen.flow(x_train, y_train,\n",
    "                                     batch_size=batch_size),\n",
    "                        steps_per_epoch=x_train.shape[0] // batch_size,\n",
    "                        epochs=epochs,\n",
    "                        validation_data=(x_test, y_test))"
   ]
  },
  {
   "cell_type": "code",
   "execution_count": 10,
   "metadata": {},
   "outputs": [
    {
     "name": "stdout",
     "output_type": "stream",
     "text": [
      "Saved trained model at /Users/JyotiSrivastava/Documents/smai/SNNs/TF_2_x/saved_models/keras_cifar10_batch_trained_model.h5 \n"
     ]
    },
    {
     "name": "stderr",
     "output_type": "stream",
     "text": [
      "/Users/JyotiSrivastava/Library/Python/3.9/lib/python/site-packages/keras/src/engine/training.py:3079: UserWarning: You are saving your model as an HDF5 file via `model.save()`. This file format is considered legacy. We recommend using instead the native Keras format, e.g. `model.save('my_model.keras')`.\n",
      "  saving_api.save_model(\n"
     ]
    }
   ],
   "source": [
    "# Save model and weights\n",
    "if not os.path.isdir(save_dir):\n",
    "    os.makedirs(save_dir)\n",
    "model_path = os.path.join(save_dir, model_name)\n",
    "model.save(model_path)\n",
    "print('Saved trained model at %s ' % model_path)"
   ]
  },
  {
   "cell_type": "code",
   "execution_count": 12,
   "metadata": {},
   "outputs": [
    {
     "name": "stdout",
     "output_type": "stream",
     "text": [
      "312/312 [==============================] - 3s 10ms/step - loss: 1.3177 - accuracy: 0.6341\n",
      "Model Accuracy = 0.63411\n",
      "312/312 [==============================] - 3s 9ms/step\n"
     ]
    }
   ],
   "source": [
    "# Load label names to use in prediction results\n",
    "label_list_path = 'datasets/cifar-10-batches-py/batches.meta'\n",
    "\n",
    "\n",
    "keras_dir = os.path.expanduser(os.path.join('~', '.keras'))\n",
    "datadir_base = os.path.expanduser(keras_dir)\n",
    "if not os.access(datadir_base, os.W_OK):\n",
    "    datadir_base = os.path.join('/tmp', '.keras')\n",
    "label_list_path = os.path.join(datadir_base, label_list_path)\n",
    "\n",
    "with open(label_list_path, mode='rb') as f:\n",
    "    labels = pickle.load(f)\n",
    "\n",
    "# Evaluate model with test data set and share sample prediction results\n",
    "evaluation = model.evaluate(datagen.flow(x_test, y_test,\n",
    "                                      batch_size=batch_size),\n",
    "                                      steps=x_test.shape[0] // batch_size)\n",
    "\n",
    "print('Model Accuracy = %.5f' % (evaluation[1]))\n",
    "\n",
    "f = open('CIFAR10_SELU_results.txt', 'a')\n",
    "f.write(' Test accuracy:' + str(evaluation[1]) +  '\\n')  \n",
    "f.close() \n",
    "\n",
    "\n",
    "predict_gen = model.predict(datagen.flow(x_test, y_test,\n",
    "                                      batch_size=batch_size),\n",
    "                                      steps=x_test.shape[0] // batch_size)\n",
    "\n"
   ]
  }
 ],
 "metadata": {
  "kernelspec": {
   "display_name": "Python 3",
   "language": "python",
   "name": "python3"
  },
  "language_info": {
   "codemirror_mode": {
    "name": "ipython",
    "version": 3
   },
   "file_extension": ".py",
   "mimetype": "text/x-python",
   "name": "python",
   "nbconvert_exporter": "python",
   "pygments_lexer": "ipython3",
   "version": "3.9.6"
  }
 },
 "nbformat": 4,
 "nbformat_minor": 2
}
