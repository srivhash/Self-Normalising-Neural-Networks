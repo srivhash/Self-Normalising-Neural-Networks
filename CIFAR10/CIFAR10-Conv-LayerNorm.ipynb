{
  "cells": [
    {
      "cell_type": "code",
      "execution_count": 1,
      "metadata": {
        "id": "PbT19mAukxCT"
      },
      "outputs": [],
      "source": [
        "# Adapted KERAS tutorial\n",
        "import tensorflow as tf\n",
        "import tensorflow.keras as keras\n",
        "from tensorflow.keras.datasets import cifar10\n",
        "from tensorflow.keras.preprocessing.image import ImageDataGenerator\n",
        "from tensorflow.keras.models import Sequential\n",
        "from tensorflow.keras.layers import Dense, AlphaDropout, Activation, Flatten\n",
        "from tensorflow.keras.layers import Conv2D, MaxPooling2D\n",
        "from tensorflow.keras.layers import LayerNormalization\n"
      ]
    },
    {
      "cell_type": "code",
      "execution_count": 2,
      "metadata": {
        "id": "h05E0Hr1kxCV"
      },
      "outputs": [],
      "source": [
        "import os\n",
        "import pickle\n",
        "import numpy as np"
      ]
    },
    {
      "cell_type": "code",
      "execution_count": 3,
      "metadata": {
        "id": "oTTbhz1ckxCV"
      },
      "outputs": [],
      "source": [
        "batch_size = 32\n",
        "num_classes = 10\n",
        "epochs = 20\n",
        "data_augmentation = True\n",
        "num_predictions = 20\n",
        "save_dir = os.path.join(os.getcwd(), 'saved_models')\n",
        "model_name = 'keras_cifar10_layer_trained_model.h5'"
      ]
    },
    {
      "cell_type": "code",
      "execution_count": 4,
      "metadata": {
        "id": "xkZvuHoAkxCV",
        "outputId": "4722bf1a-4455-4c79-bd41-d94d2cabc25b",
        "colab": {
          "base_uri": "https://localhost:8080/"
        }
      },
      "outputs": [
        {
          "output_type": "stream",
          "name": "stdout",
          "text": [
            "[PhysicalDevice(name='/physical_device:CPU:0', device_type='CPU'), PhysicalDevice(name='/physical_device:GPU:0', device_type='GPU')]\n"
          ]
        }
      ],
      "source": [
        "# list devices so you can check whether your gpu is available\n",
        "print(tf.config.list_physical_devices())"
      ]
    },
    {
      "cell_type": "code",
      "execution_count": 5,
      "metadata": {
        "id": "II_vRemYkxCV",
        "outputId": "8705a458-1b9c-48c1-b4c7-e25faefdcb7d",
        "colab": {
          "base_uri": "https://localhost:8080/"
        }
      },
      "outputs": [
        {
          "output_type": "stream",
          "name": "stdout",
          "text": [
            "Downloading data from https://www.cs.toronto.edu/~kriz/cifar-10-python.tar.gz\n",
            "170498071/170498071 [==============================] - 3s 0us/step\n",
            "x_train shape: (50000, 32, 32, 3)\n",
            "50000 train samples\n",
            "10000 test samples\n"
          ]
        }
      ],
      "source": [
        "# The data, shuffled and split between train and test sets:\n",
        "(x_train, y_train), (x_test, y_test) = cifar10.load_data()\n",
        "print('x_train shape:', x_train.shape)\n",
        "print(x_train.shape[0], 'train samples')\n",
        "print(x_test.shape[0], 'test samples')\n",
        "\n",
        "# Convert class vectors to binary class matrices.\n",
        "y_train = keras.utils.to_categorical(y_train, num_classes)\n",
        "y_test = keras.utils.to_categorical(y_test, num_classes)"
      ]
    },
    {
      "cell_type": "code",
      "execution_count": 6,
      "metadata": {
        "id": "IqsFLH8XkxCV"
      },
      "outputs": [],
      "source": [
        "model = Sequential()\n",
        "\n",
        "model.add(Conv2D(32, (3, 3), padding='same',\n",
        "                 input_shape=x_train.shape[1:],kernel_initializer='lecun_normal',bias_initializer='zeros'))\n",
        "model.add(LayerNormalization())\n",
        "model.add(Conv2D(32, (3, 3),kernel_initializer='lecun_normal',bias_initializer='zeros'))\n",
        "model.add(LayerNormalization())\n",
        "model.add(MaxPooling2D(pool_size=(2, 2)))\n",
        "model.add(AlphaDropout(0.1))\n",
        "\n",
        "model.add(Conv2D(64, (3, 3), padding='same',kernel_initializer='lecun_normal',bias_initializer='zeros'))\n",
        "model.add(LayerNormalization())\n",
        "model.add(Conv2D(64, (3, 3),kernel_initializer='lecun_normal',bias_initializer='zeros'))\n",
        "model.add(LayerNormalization())\n",
        "model.add(MaxPooling2D(pool_size=(2, 2)))\n",
        "model.add(AlphaDropout(0.1))\n",
        "\n",
        "model.add(Flatten())\n",
        "model.add(Dense(512,kernel_initializer='lecun_normal',bias_initializer='zeros'))\n",
        "model.add(LayerNormalization())\n",
        "model.add(AlphaDropout(0.2))\n",
        "model.add(Dense(num_classes,kernel_initializer='lecun_normal',bias_initializer='zeros'))\n",
        "model.add(Activation('softmax'))"
      ]
    },
    {
      "cell_type": "code",
      "execution_count": 7,
      "metadata": {
        "id": "RSBh4Q0LkxCV"
      },
      "outputs": [],
      "source": [
        "# initiate RMSprop optimizer\n",
        "opt = keras.optimizers.legacy.RMSprop(learning_rate=0.0001)\n",
        "\n",
        "# Let's train the model using RMSprop\n",
        "model.compile(loss='categorical_crossentropy',\n",
        "              optimizer=opt,\n",
        "              metrics=['accuracy'])"
      ]
    },
    {
      "cell_type": "code",
      "execution_count": 8,
      "metadata": {
        "id": "GmMfVFStkxCV"
      },
      "outputs": [],
      "source": [
        "x_train = x_train.astype('float32')\n",
        "x_test = x_test.astype('float32')\n",
        "x_train /= 255\n",
        "x_test /= 255"
      ]
    },
    {
      "cell_type": "code",
      "execution_count": 9,
      "metadata": {
        "id": "2vT1EtagkxCW",
        "outputId": "05dc55d4-2022-4e8c-f831-0fd4c3b45157",
        "colab": {
          "base_uri": "https://localhost:8080/"
        }
      },
      "outputs": [
        {
          "output_type": "stream",
          "name": "stdout",
          "text": [
            "Using real-time data augmentation.\n",
            "Epoch 1/20\n",
            "1562/1562 [==============================] - 53s 27ms/step - loss: 1.9020 - accuracy: 0.3228 - val_loss: 1.7937 - val_accuracy: 0.4385\n",
            "Epoch 2/20\n",
            "1562/1562 [==============================] - 41s 26ms/step - loss: 1.6435 - accuracy: 0.4066 - val_loss: 2.0161 - val_accuracy: 0.4314\n",
            "Epoch 3/20\n",
            "1562/1562 [==============================] - 40s 26ms/step - loss: 1.5327 - accuracy: 0.4459 - val_loss: 1.5162 - val_accuracy: 0.5287\n",
            "Epoch 4/20\n",
            "1562/1562 [==============================] - 41s 26ms/step - loss: 1.4467 - accuracy: 0.4822 - val_loss: 1.4350 - val_accuracy: 0.5473\n",
            "Epoch 5/20\n",
            "1562/1562 [==============================] - 41s 26ms/step - loss: 1.3850 - accuracy: 0.5052 - val_loss: 1.7766 - val_accuracy: 0.4740\n",
            "Epoch 6/20\n",
            "1562/1562 [==============================] - 40s 26ms/step - loss: 1.3367 - accuracy: 0.5213 - val_loss: 1.4804 - val_accuracy: 0.5373\n",
            "Epoch 7/20\n",
            "1562/1562 [==============================] - 39s 25ms/step - loss: 1.3052 - accuracy: 0.5350 - val_loss: 1.3994 - val_accuracy: 0.5605\n",
            "Epoch 8/20\n",
            "1562/1562 [==============================] - 39s 25ms/step - loss: 1.2746 - accuracy: 0.5460 - val_loss: 1.3155 - val_accuracy: 0.5917\n",
            "Epoch 9/20\n",
            "1562/1562 [==============================] - 38s 25ms/step - loss: 1.2547 - accuracy: 0.5556 - val_loss: 1.3338 - val_accuracy: 0.5754\n",
            "Epoch 10/20\n",
            "1562/1562 [==============================] - 41s 26ms/step - loss: 1.2338 - accuracy: 0.5626 - val_loss: 1.3542 - val_accuracy: 0.5733\n",
            "Epoch 11/20\n",
            "1562/1562 [==============================] - 41s 26ms/step - loss: 1.2214 - accuracy: 0.5656 - val_loss: 1.2509 - val_accuracy: 0.5995\n",
            "Epoch 12/20\n",
            "1562/1562 [==============================] - 42s 27ms/step - loss: 1.2040 - accuracy: 0.5742 - val_loss: 1.2701 - val_accuracy: 0.5898\n",
            "Epoch 13/20\n",
            "1562/1562 [==============================] - 44s 28ms/step - loss: 1.1882 - accuracy: 0.5806 - val_loss: 1.3890 - val_accuracy: 0.5763\n",
            "Epoch 14/20\n",
            "1562/1562 [==============================] - 42s 27ms/step - loss: 1.1758 - accuracy: 0.5848 - val_loss: 1.1631 - val_accuracy: 0.6329\n",
            "Epoch 15/20\n",
            "1562/1562 [==============================] - 42s 27ms/step - loss: 1.1595 - accuracy: 0.5871 - val_loss: 1.1942 - val_accuracy: 0.6204\n",
            "Epoch 16/20\n",
            "1562/1562 [==============================] - 41s 26ms/step - loss: 1.1523 - accuracy: 0.5936 - val_loss: 1.3078 - val_accuracy: 0.5913\n",
            "Epoch 17/20\n",
            "1562/1562 [==============================] - 42s 27ms/step - loss: 1.1412 - accuracy: 0.5978 - val_loss: 1.1610 - val_accuracy: 0.6137\n",
            "Epoch 18/20\n",
            "1562/1562 [==============================] - 42s 27ms/step - loss: 1.1320 - accuracy: 0.6028 - val_loss: 1.2779 - val_accuracy: 0.5994\n",
            "Epoch 19/20\n",
            "1562/1562 [==============================] - 42s 27ms/step - loss: 1.1226 - accuracy: 0.6057 - val_loss: 1.2546 - val_accuracy: 0.6101\n",
            "Epoch 20/20\n",
            "1562/1562 [==============================] - 39s 25ms/step - loss: 1.1093 - accuracy: 0.6083 - val_loss: 1.1530 - val_accuracy: 0.6321\n"
          ]
        }
      ],
      "source": [
        "if not data_augmentation:\n",
        "    print('Not using data augmentation.')\n",
        "    model.fit(x_train, y_train,\n",
        "              batch_size=batch_size,\n",
        "              epochs=epochs,\n",
        "              validation_data=(x_test, y_test),\n",
        "              shuffle=True)\n",
        "else:\n",
        "    print('Using real-time data augmentation.')\n",
        "    # This will do preprocessing and realtime data augmentation:\n",
        "    datagen = ImageDataGenerator(\n",
        "        featurewise_center=False,  # set input mean to 0 over the dataset\n",
        "        samplewise_center=False,  # set each sample mean to 0\n",
        "        featurewise_std_normalization=False,  # divide inputs by std of the dataset\n",
        "        samplewise_std_normalization=False,  # divide each input by its std\n",
        "        zca_whitening=False,  # apply ZCA whitening\n",
        "        rotation_range=0,  # randomly rotate images in the range (degrees, 0 to 180)\n",
        "        width_shift_range=0.1,  # randomly shift images horizontally (fraction of total width)\n",
        "        height_shift_range=0.1,  # randomly shift images vertically (fraction of total height)\n",
        "        horizontal_flip=True,  # randomly flip images\n",
        "        vertical_flip=False)  # randomly flip images\n",
        "\n",
        "    # Compute quantities required for feature-wise normalization\n",
        "    # (std, mean, and principal components if ZCA whitening is applied).\n",
        "    datagen.fit(x_train)\n",
        "\n",
        "    # Fit the model on the batches generated by datagen.flow().\n",
        "    model.fit(datagen.flow(x_train, y_train,\n",
        "                                     batch_size=batch_size),\n",
        "                        steps_per_epoch=x_train.shape[0] // batch_size,\n",
        "                        epochs=epochs,\n",
        "                        validation_data=(x_test, y_test))"
      ]
    },
    {
      "cell_type": "code",
      "execution_count": 10,
      "metadata": {
        "id": "FJl3FaY0kxCW",
        "outputId": "560d97e4-0f2b-4c80-eaa9-546d2633d7e6",
        "colab": {
          "base_uri": "https://localhost:8080/"
        }
      },
      "outputs": [
        {
          "output_type": "stream",
          "name": "stdout",
          "text": [
            "Saved trained model at /content/saved_models/keras_cifar10_layer_trained_model.h5 \n"
          ]
        },
        {
          "output_type": "stream",
          "name": "stderr",
          "text": [
            "/usr/local/lib/python3.10/dist-packages/keras/src/engine/training.py:3079: UserWarning: You are saving your model as an HDF5 file via `model.save()`. This file format is considered legacy. We recommend using instead the native Keras format, e.g. `model.save('my_model.keras')`.\n",
            "  saving_api.save_model(\n"
          ]
        }
      ],
      "source": [
        "# Save model and weights\n",
        "if not os.path.isdir(save_dir):\n",
        "    os.makedirs(save_dir)\n",
        "model_path = os.path.join(save_dir, model_name)\n",
        "model.save(model_path)\n",
        "print('Saved trained model at %s ' % model_path)"
      ]
    },
    {
      "cell_type": "code",
      "execution_count": 12,
      "metadata": {
        "id": "-ag6ttqRkxCW",
        "outputId": "8a161dfb-1a6c-49e7-88f1-bcbaddb5b2dd",
        "colab": {
          "base_uri": "https://localhost:8080/"
        }
      },
      "outputs": [
        {
          "output_type": "stream",
          "name": "stdout",
          "text": [
            "312/312 [==============================] - 8s 24ms/step - loss: 1.0995 - accuracy: 0.6379\n",
            "Model Accuracy = 0.63792\n",
            "312/312 [==============================] - 7s 23ms/step\n"
          ]
        }
      ],
      "source": [
        "# Load label names to use in prediction results\n",
        "label_list_path = 'datasets/cifar-10-batches-py/batches.meta'\n",
        "\n",
        "\n",
        "keras_dir = os.path.expanduser(os.path.join('~', '.keras'))\n",
        "datadir_base = os.path.expanduser(keras_dir)\n",
        "if not os.access(datadir_base, os.W_OK):\n",
        "    datadir_base = os.path.join('/tmp', '.keras')\n",
        "label_list_path = os.path.join(datadir_base, label_list_path)\n",
        "\n",
        "with open(label_list_path, mode='rb') as f:\n",
        "    labels = pickle.load(f)\n",
        "\n",
        "# Evaluate model with test data set and share sample prediction results\n",
        "evaluation = model.evaluate(datagen.flow(x_test, y_test,\n",
        "                                      batch_size=batch_size),\n",
        "                                      steps=x_test.shape[0] // batch_size)\n",
        "\n",
        "print('Model Accuracy = %.5f' % (evaluation[1]))\n",
        "\n",
        "f = open('CIFAR10_SELU_results.txt', 'a')\n",
        "f.write(' Test accuracy:' + str(evaluation[1]) +  '\\n')\n",
        "f.close()\n",
        "\n",
        "\n",
        "predict_gen = model.predict(datagen.flow(x_test, y_test,\n",
        "                                      batch_size=batch_size),\n",
        "                                      steps=x_test.shape[0] // batch_size)\n"
      ]
    }
  ],
  "metadata": {
    "kernelspec": {
      "display_name": "Python 3",
      "name": "python3"
    },
    "language_info": {
      "codemirror_mode": {
        "name": "ipython",
        "version": 3
      },
      "file_extension": ".py",
      "mimetype": "text/x-python",
      "name": "python",
      "nbconvert_exporter": "python",
      "pygments_lexer": "ipython3",
      "version": "3.9.6"
    },
    "colab": {
      "provenance": [],
      "gpuType": "T4"
    },
    "accelerator": "GPU"
  },
  "nbformat": 4,
  "nbformat_minor": 0
}