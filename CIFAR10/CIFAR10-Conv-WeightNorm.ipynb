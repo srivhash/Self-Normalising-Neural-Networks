{
  "cells": [
    {
      "cell_type": "code",
      "source": [
        "pip install tensorflow-addons"
      ],
      "metadata": {
        "colab": {
          "base_uri": "https://localhost:8080/"
        },
        "id": "i-KfM30JrweL",
        "outputId": "df77eab3-0830-4d29-943b-4673dd8dca1a"
      },
      "execution_count": 26,
      "outputs": [
        {
          "output_type": "stream",
          "name": "stdout",
          "text": [
            "Requirement already satisfied: tensorflow-addons in /usr/local/lib/python3.10/dist-packages (0.22.0)\n",
            "Requirement already satisfied: packaging in /usr/local/lib/python3.10/dist-packages (from tensorflow-addons) (23.2)\n",
            "Requirement already satisfied: typeguard<3.0.0,>=2.7 in /usr/local/lib/python3.10/dist-packages (from tensorflow-addons) (2.13.3)\n"
          ]
        }
      ]
    },
    {
      "cell_type": "code",
      "execution_count": 27,
      "metadata": {
        "id": "PbT19mAukxCT"
      },
      "outputs": [],
      "source": [
        "# Adapted KERAS tutorial\n",
        "import tensorflow as tf\n",
        "import tensorflow.keras as keras\n",
        "from tensorflow.keras.datasets import cifar10\n",
        "from tensorflow.keras.preprocessing.image import ImageDataGenerator\n",
        "from tensorflow.keras.models import Sequential\n",
        "from tensorflow.keras.layers import Dense, AlphaDropout, Activation, Flatten\n",
        "from tensorflow.keras.layers import Conv2D, MaxPooling2D\n",
        "from tensorflow_addons.layers import WeightNormalization"
      ]
    },
    {
      "cell_type": "code",
      "execution_count": 28,
      "metadata": {
        "id": "h05E0Hr1kxCV"
      },
      "outputs": [],
      "source": [
        "import os\n",
        "import pickle\n",
        "import numpy as np"
      ]
    },
    {
      "cell_type": "code",
      "execution_count": 29,
      "metadata": {
        "id": "oTTbhz1ckxCV"
      },
      "outputs": [],
      "source": [
        "batch_size = 32\n",
        "num_classes = 10\n",
        "epochs = 20\n",
        "data_augmentation = True\n",
        "num_predictions = 20\n",
        "save_dir = os.path.join(os.getcwd(), 'saved_models')\n",
        "model_name = 'keras_cifar10_weight_trained_model.h5'"
      ]
    },
    {
      "cell_type": "code",
      "execution_count": 30,
      "metadata": {
        "id": "xkZvuHoAkxCV",
        "outputId": "82b9c181-6400-43d3-b357-fa86725246c7",
        "colab": {
          "base_uri": "https://localhost:8080/"
        }
      },
      "outputs": [
        {
          "output_type": "stream",
          "name": "stdout",
          "text": [
            "[PhysicalDevice(name='/physical_device:CPU:0', device_type='CPU'), PhysicalDevice(name='/physical_device:GPU:0', device_type='GPU')]\n"
          ]
        }
      ],
      "source": [
        "# list devices so you can check whether your gpu is available\n",
        "print(tf.config.list_physical_devices())"
      ]
    },
    {
      "cell_type": "code",
      "execution_count": 31,
      "metadata": {
        "id": "II_vRemYkxCV",
        "outputId": "af0cf5ac-4ddf-44e7-a233-e21716f6bbf9",
        "colab": {
          "base_uri": "https://localhost:8080/"
        }
      },
      "outputs": [
        {
          "output_type": "stream",
          "name": "stdout",
          "text": [
            "x_train shape: (50000, 32, 32, 3)\n",
            "50000 train samples\n",
            "10000 test samples\n"
          ]
        }
      ],
      "source": [
        "# The data, shuffled and split between train and test sets:\n",
        "(x_train, y_train), (x_test, y_test) = cifar10.load_data()\n",
        "print('x_train shape:', x_train.shape)\n",
        "print(x_train.shape[0], 'train samples')\n",
        "print(x_test.shape[0], 'test samples')\n",
        "\n",
        "# Convert class vectors to binary class matrices.\n",
        "y_train = keras.utils.to_categorical(y_train, num_classes)\n",
        "y_test = keras.utils.to_categorical(y_test, num_classes)"
      ]
    },
    {
      "cell_type": "code",
      "execution_count": 32,
      "metadata": {
        "id": "IqsFLH8XkxCV"
      },
      "outputs": [],
      "source": [
        "model = Sequential()\n",
        "\n",
        "model.add(WeightNormalization(Conv2D(32, (3, 3), padding='same',\n",
        "                 input_shape=x_train.shape[1:],kernel_initializer='lecun_normal',bias_initializer='zeros')))\n",
        "model.add(Activation('relu'))\n",
        "model.add(WeightNormalization(Conv2D(32, (3, 3),kernel_initializer='lecun_normal',bias_initializer='zeros')))\n",
        "model.add(Activation('relu'))\n",
        "model.add(MaxPooling2D(pool_size=(2, 2)))\n",
        "model.add(AlphaDropout(0.1))\n",
        "\n",
        "model.add(WeightNormalization(Conv2D(64, (3, 3), padding='same',kernel_initializer='lecun_normal',bias_initializer='zeros')))\n",
        "model.add(Activation('relu'))\n",
        "model.add(WeightNormalization(Conv2D(64, (3, 3),kernel_initializer='lecun_normal',bias_initializer='zeros')))\n",
        "model.add(Activation('relu'))\n",
        "model.add(MaxPooling2D(pool_size=(2, 2)))\n",
        "model.add(AlphaDropout(0.1))\n",
        "\n",
        "model.add(Flatten())\n",
        "model.add(Dense(512,kernel_initializer='lecun_normal',bias_initializer='zeros'))\n",
        "model.add(Activation('relu'))\n",
        "model.add(AlphaDropout(0.2))\n",
        "model.add(Dense(num_classes,kernel_initializer='lecun_normal',bias_initializer='zeros'))\n",
        "model.add(Activation('softmax'))"
      ]
    },
    {
      "cell_type": "code",
      "execution_count": 33,
      "metadata": {
        "id": "RSBh4Q0LkxCV"
      },
      "outputs": [],
      "source": [
        "# initiate RMSprop optimizer\n",
        "opt = keras.optimizers.legacy.RMSprop(learning_rate=0.0001)\n",
        "\n",
        "# Let's train the model using RMSprop\n",
        "model.compile(loss='categorical_crossentropy',\n",
        "              optimizer=opt,\n",
        "              metrics=['accuracy'])"
      ]
    },
    {
      "cell_type": "code",
      "execution_count": 34,
      "metadata": {
        "id": "GmMfVFStkxCV"
      },
      "outputs": [],
      "source": [
        "x_train = x_train.astype('float32')\n",
        "x_test = x_test.astype('float32')\n",
        "x_train /= 255\n",
        "x_test /= 255"
      ]
    },
    {
      "cell_type": "code",
      "execution_count": 35,
      "metadata": {
        "id": "2vT1EtagkxCW",
        "outputId": "888ee5ba-8d2d-4561-8389-00d86a267e90",
        "colab": {
          "base_uri": "https://localhost:8080/"
        }
      },
      "outputs": [
        {
          "output_type": "stream",
          "name": "stdout",
          "text": [
            "Using real-time data augmentation.\n",
            "Epoch 1/20\n",
            "1562/1562 [==============================] - 45s 27ms/step - loss: 1.8815 - accuracy: 0.3268 - val_loss: 1.7700 - val_accuracy: 0.4533\n",
            "Epoch 2/20\n",
            "1562/1562 [==============================] - 37s 23ms/step - loss: 1.5689 - accuracy: 0.4373 - val_loss: 1.8919 - val_accuracy: 0.4941\n",
            "Epoch 3/20\n",
            "1562/1562 [==============================] - 37s 23ms/step - loss: 1.4285 - accuracy: 0.4896 - val_loss: 1.5405 - val_accuracy: 0.5637\n",
            "Epoch 4/20\n",
            "1562/1562 [==============================] - 36s 23ms/step - loss: 1.3251 - accuracy: 0.5271 - val_loss: 1.4415 - val_accuracy: 0.5922\n",
            "Epoch 5/20\n",
            "1562/1562 [==============================] - 39s 25ms/step - loss: 1.2511 - accuracy: 0.5550 - val_loss: 1.5252 - val_accuracy: 0.6010\n",
            "Epoch 6/20\n",
            "1562/1562 [==============================] - 42s 27ms/step - loss: 1.1885 - accuracy: 0.5787 - val_loss: 1.3644 - val_accuracy: 0.6290\n",
            "Epoch 7/20\n",
            "1562/1562 [==============================] - 36s 23ms/step - loss: 1.1372 - accuracy: 0.5989 - val_loss: 1.5193 - val_accuracy: 0.6258\n",
            "Epoch 8/20\n",
            "1562/1562 [==============================] - 36s 23ms/step - loss: 1.0970 - accuracy: 0.6158 - val_loss: 1.2997 - val_accuracy: 0.6597\n",
            "Epoch 9/20\n",
            "1562/1562 [==============================] - 35s 23ms/step - loss: 1.0616 - accuracy: 0.6289 - val_loss: 1.3129 - val_accuracy: 0.6742\n",
            "Epoch 10/20\n",
            "1562/1562 [==============================] - 36s 23ms/step - loss: 1.0372 - accuracy: 0.6358 - val_loss: 1.3621 - val_accuracy: 0.6806\n",
            "Epoch 11/20\n",
            "1562/1562 [==============================] - 36s 23ms/step - loss: 1.0187 - accuracy: 0.6460 - val_loss: 1.3032 - val_accuracy: 0.6878\n",
            "Epoch 12/20\n",
            "1562/1562 [==============================] - 36s 23ms/step - loss: 0.9968 - accuracy: 0.6507 - val_loss: 1.0858 - val_accuracy: 0.7217\n",
            "Epoch 13/20\n",
            "1562/1562 [==============================] - 36s 23ms/step - loss: 0.9789 - accuracy: 0.6609 - val_loss: 1.1156 - val_accuracy: 0.7114\n",
            "Epoch 14/20\n",
            "1562/1562 [==============================] - 35s 23ms/step - loss: 0.9666 - accuracy: 0.6666 - val_loss: 1.1371 - val_accuracy: 0.7058\n",
            "Epoch 15/20\n",
            "1562/1562 [==============================] - 36s 23ms/step - loss: 0.9482 - accuracy: 0.6720 - val_loss: 1.2026 - val_accuracy: 0.7214\n",
            "Epoch 16/20\n",
            "1562/1562 [==============================] - 35s 23ms/step - loss: 0.9425 - accuracy: 0.6749 - val_loss: 1.1989 - val_accuracy: 0.7231\n",
            "Epoch 17/20\n",
            "1562/1562 [==============================] - 36s 23ms/step - loss: 0.9263 - accuracy: 0.6811 - val_loss: 0.9435 - val_accuracy: 0.7399\n",
            "Epoch 18/20\n",
            "1562/1562 [==============================] - 36s 23ms/step - loss: 0.9172 - accuracy: 0.6846 - val_loss: 1.1632 - val_accuracy: 0.7299\n",
            "Epoch 19/20\n",
            "1562/1562 [==============================] - 36s 23ms/step - loss: 0.9101 - accuracy: 0.6887 - val_loss: 0.9938 - val_accuracy: 0.7427\n",
            "Epoch 20/20\n",
            "1562/1562 [==============================] - 36s 23ms/step - loss: 0.8977 - accuracy: 0.6930 - val_loss: 0.9873 - val_accuracy: 0.7387\n"
          ]
        }
      ],
      "source": [
        "if not data_augmentation:\n",
        "    print('Not using data augmentation.')\n",
        "    model.fit(x_train, y_train,\n",
        "              batch_size=batch_size,\n",
        "              epochs=epochs,\n",
        "              validation_data=(x_test, y_test),\n",
        "              shuffle=True)\n",
        "else:\n",
        "    print('Using real-time data augmentation.')\n",
        "    # This will do preprocessing and realtime data augmentation:\n",
        "    datagen = ImageDataGenerator(\n",
        "        featurewise_center=False,  # set input mean to 0 over the dataset\n",
        "        samplewise_center=False,  # set each sample mean to 0\n",
        "        featurewise_std_normalization=False,  # divide inputs by std of the dataset\n",
        "        samplewise_std_normalization=False,  # divide each input by its std\n",
        "        zca_whitening=False,  # apply ZCA whitening\n",
        "        rotation_range=0,  # randomly rotate images in the range (degrees, 0 to 180)\n",
        "        width_shift_range=0.1,  # randomly shift images horizontally (fraction of total width)\n",
        "        height_shift_range=0.1,  # randomly shift images vertically (fraction of total height)\n",
        "        horizontal_flip=True,  # randomly flip images\n",
        "        vertical_flip=False)  # randomly flip images\n",
        "\n",
        "    # Compute quantities required for feature-wise normalization\n",
        "    # (std, mean, and principal components if ZCA whitening is applied).\n",
        "    datagen.fit(x_train)\n",
        "\n",
        "    # Fit the model on the batches generated by datagen.flow().\n",
        "    model.fit(datagen.flow(x_train, y_train,\n",
        "                                     batch_size=batch_size),\n",
        "                        steps_per_epoch=x_train.shape[0] // batch_size,\n",
        "                        epochs=epochs,\n",
        "                        validation_data=(x_test, y_test))"
      ]
    },
    {
      "cell_type": "code",
      "execution_count": 36,
      "metadata": {
        "id": "FJl3FaY0kxCW",
        "outputId": "324275af-f535-42fd-aeb9-cc50be66ed00",
        "colab": {
          "base_uri": "https://localhost:8080/"
        }
      },
      "outputs": [
        {
          "output_type": "stream",
          "name": "stdout",
          "text": [
            "Saved trained model at /content/saved_models/keras_cifar10_weight_trained_model.h5 \n"
          ]
        },
        {
          "output_type": "stream",
          "name": "stderr",
          "text": [
            "/usr/local/lib/python3.10/dist-packages/keras/src/engine/training.py:3079: UserWarning: You are saving your model as an HDF5 file via `model.save()`. This file format is considered legacy. We recommend using instead the native Keras format, e.g. `model.save('my_model.keras')`.\n",
            "  saving_api.save_model(\n"
          ]
        }
      ],
      "source": [
        "# Save model and weights\n",
        "if not os.path.isdir(save_dir):\n",
        "    os.makedirs(save_dir)\n",
        "model_path = os.path.join(save_dir, model_name)\n",
        "model.save(model_path)\n",
        "print('Saved trained model at %s ' % model_path)"
      ]
    },
    {
      "cell_type": "code",
      "execution_count": 37,
      "metadata": {
        "id": "-ag6ttqRkxCW",
        "outputId": "d533f318-fc1c-41e1-cac7-b4d1fca5dbe4",
        "colab": {
          "base_uri": "https://localhost:8080/"
        }
      },
      "outputs": [
        {
          "output_type": "stream",
          "name": "stdout",
          "text": [
            "312/312 [==============================] - 8s 25ms/step - loss: 0.9703 - accuracy: 0.7281\n",
            "Model Accuracy = 0.72806\n",
            "312/312 [==============================] - 13s 37ms/step\n"
          ]
        }
      ],
      "source": [
        "# Load label names to use in prediction results\n",
        "label_list_path = 'datasets/cifar-10-batches-py/batches.meta'\n",
        "\n",
        "\n",
        "keras_dir = os.path.expanduser(os.path.join('~', '.keras'))\n",
        "datadir_base = os.path.expanduser(keras_dir)\n",
        "if not os.access(datadir_base, os.W_OK):\n",
        "    datadir_base = os.path.join('/tmp', '.keras')\n",
        "label_list_path = os.path.join(datadir_base, label_list_path)\n",
        "\n",
        "with open(label_list_path, mode='rb') as f:\n",
        "    labels = pickle.load(f)\n",
        "\n",
        "# Evaluate model with test data set and share sample prediction results\n",
        "evaluation = model.evaluate(datagen.flow(x_test, y_test,\n",
        "                                      batch_size=batch_size),\n",
        "                                      steps=x_test.shape[0] // batch_size)\n",
        "\n",
        "print('Model Accuracy = %.5f' % (evaluation[1]))\n",
        "\n",
        "f = open('CIFAR10_SELU_results.txt', 'a')\n",
        "f.write(' Test accuracy:' + str(evaluation[1]) +  '\\n')\n",
        "f.close()\n",
        "\n",
        "\n",
        "predict_gen = model.predict(datagen.flow(x_test, y_test,\n",
        "                                      batch_size=batch_size),\n",
        "                                      steps=x_test.shape[0] // batch_size)\n"
      ]
    }
  ],
  "metadata": {
    "kernelspec": {
      "display_name": "Python 3",
      "name": "python3"
    },
    "language_info": {
      "codemirror_mode": {
        "name": "ipython",
        "version": 3
      },
      "file_extension": ".py",
      "mimetype": "text/x-python",
      "name": "python",
      "nbconvert_exporter": "python",
      "pygments_lexer": "ipython3",
      "version": "3.9.6"
    },
    "colab": {
      "provenance": [],
      "gpuType": "T4"
    },
    "accelerator": "GPU"
  },
  "nbformat": 4,
  "nbformat_minor": 0
}