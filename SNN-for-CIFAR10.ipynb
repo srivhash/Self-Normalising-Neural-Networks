{
 "cells": [
  {
   "cell_type": "code",
   "execution_count": 17,
   "metadata": {},
   "outputs": [],
   "source": [
    "import tensorflow as tf\n",
    "import tensorflow.keras as keras\n",
    "from tensorflow.keras.datasets import cifar10\n",
    "from tensorflow.keras.preprocessing.image import ImageDataGenerator\n",
    "from tensorflow.keras.models import Sequential\n",
    "from tensorflow.keras.layers import Dense, AlphaDropout, Activation, Flatten\n",
    "from tensorflow.keras.layers import Conv2D, MaxPooling2D"
   ]
  },
  {
   "cell_type": "code",
   "execution_count": 18,
   "metadata": {},
   "outputs": [],
   "source": [
    "import os\n",
    "import pickle\n",
    "import numpy as np"
   ]
  },
  {
   "cell_type": "code",
   "execution_count": 19,
   "metadata": {},
   "outputs": [],
   "source": [
    "batch_size = 32\n",
    "num_classes = 10\n",
    "epochs = 10\n",
    "data_augmentation = True\n",
    "num_predictions = 20\n",
    "save_dir = os.path.join(os.getcwd(), 'saved_models')\n",
    "model_name = 'keras_cifar10_trained_model.h5'"
   ]
  },
  {
   "cell_type": "code",
   "execution_count": 20,
   "metadata": {},
   "outputs": [
    {
     "name": "stdout",
     "output_type": "stream",
     "text": [
      "[PhysicalDevice(name='/physical_device:CPU:0', device_type='CPU')]\n"
     ]
    }
   ],
   "source": [
    "# list devices so you can check whether your gpu is available\n",
    "print(tf.config.list_physical_devices())"
   ]
  },
  {
   "cell_type": "code",
   "execution_count": 21,
   "metadata": {},
   "outputs": [
    {
     "name": "stdout",
     "output_type": "stream",
     "text": [
      "x_train shape: (50000, 32, 32, 3)\n",
      "50000 train samples\n",
      "10000 test samples\n"
     ]
    }
   ],
   "source": [
    "# The data, shuffled and split between train and test sets:\n",
    "(x_train, y_train), (x_test, y_test) = cifar10.load_data()\n",
    "print('x_train shape:', x_train.shape)\n",
    "print(x_train.shape[0], 'train samples')\n",
    "print(x_test.shape[0], 'test samples')\n",
    "\n",
    "# Convert class vectors to binary class matrices.\n",
    "y_train = keras.utils.to_categorical(y_train, num_classes)\n",
    "y_test = keras.utils.to_categorical(y_test, num_classes)"
   ]
  },
  {
   "cell_type": "code",
   "execution_count": 22,
   "metadata": {},
   "outputs": [],
   "source": [
    "model = Sequential()\n",
    "\n",
    "model.add(Conv2D(32, (3, 3), padding='same',\n",
    "                 input_shape=x_train.shape[1:],kernel_initializer='lecun_normal',bias_initializer='zeros'))\n",
    "model.add(Activation('selu'))\n",
    "model.add(Conv2D(32, (3, 3),kernel_initializer='lecun_normal',bias_initializer='zeros'))\n",
    "model.add(Activation('selu'))\n",
    "model.add(MaxPooling2D(pool_size=(2, 2)))\n",
    "model.add(AlphaDropout(0.1))\n",
    "\n",
    "model.add(Conv2D(64, (3, 3), padding='same',kernel_initializer='lecun_normal',bias_initializer='zeros'))\n",
    "model.add(Activation('selu'))\n",
    "model.add(Conv2D(64, (3, 3),kernel_initializer='lecun_normal',bias_initializer='zeros'))\n",
    "model.add(Activation('selu'))\n",
    "model.add(MaxPooling2D(pool_size=(2, 2)))\n",
    "model.add(AlphaDropout(0.1))\n",
    "\n",
    "model.add(Flatten())\n",
    "model.add(Dense(512,kernel_initializer='lecun_normal',bias_initializer='zeros'))\n",
    "model.add(Activation('selu'))\n",
    "model.add(AlphaDropout(0.2))\n",
    "model.add(Dense(num_classes,kernel_initializer='lecun_normal',bias_initializer='zeros'))\n",
    "model.add(Activation('softmax'))"
   ]
  },
  {
   "cell_type": "code",
   "execution_count": 23,
   "metadata": {},
   "outputs": [
    {
     "name": "stdout",
     "output_type": "stream",
     "text": [
      "Using real-time data augmentation.\n",
      "Epoch 1/10\n",
      "1562/1562 [==============================] - 117s 74ms/step - loss: 1.9012 - accuracy: 0.3162 - val_loss: 1.9002 - val_accuracy: 0.4259\n",
      "Epoch 2/10\n",
      "1562/1562 [==============================] - 118s 76ms/step - loss: 1.6100 - accuracy: 0.4191 - val_loss: 1.7416 - val_accuracy: 0.4879\n",
      "Epoch 3/10\n",
      "1562/1562 [==============================] - 118s 75ms/step - loss: 1.4755 - accuracy: 0.4699 - val_loss: 1.6425 - val_accuracy: 0.5466\n",
      "Epoch 4/10\n",
      "1562/1562 [==============================] - 117s 75ms/step - loss: 1.3773 - accuracy: 0.5070 - val_loss: 1.3664 - val_accuracy: 0.5702\n",
      "Epoch 5/10\n",
      "1562/1562 [==============================] - 117s 75ms/step - loss: 1.3050 - accuracy: 0.5348 - val_loss: 1.3543 - val_accuracy: 0.6000\n",
      "Epoch 6/10\n",
      "1562/1562 [==============================] - 117s 75ms/step - loss: 1.2441 - accuracy: 0.5592 - val_loss: 1.2486 - val_accuracy: 0.6190\n",
      "Epoch 7/10\n",
      "1562/1562 [==============================] - 117s 75ms/step - loss: 1.1837 - accuracy: 0.5821 - val_loss: 1.1577 - val_accuracy: 0.6389\n",
      "Epoch 8/10\n",
      "1562/1562 [==============================] - 117s 75ms/step - loss: 1.1459 - accuracy: 0.5953 - val_loss: 1.1516 - val_accuracy: 0.6494\n",
      "Epoch 9/10\n",
      "1562/1562 [==============================] - 117s 75ms/step - loss: 1.1016 - accuracy: 0.6100 - val_loss: 1.0664 - val_accuracy: 0.6673\n",
      "Epoch 10/10\n",
      "1562/1562 [==============================] - 116s 74ms/step - loss: 1.0659 - accuracy: 0.6258 - val_loss: 1.1179 - val_accuracy: 0.6737\n"
     ]
    }
   ],
   "source": [
    "# initiate RMSprop optimizer\n",
    "opt = keras.optimizers.RMSprop(learning_rate=0.0001)\n",
    "\n",
    "# Let's train the model using RMSprop\n",
    "model.compile(loss='categorical_crossentropy',\n",
    "              optimizer=opt,\n",
    "              metrics=['accuracy'])\n",
    "\n",
    "x_train = x_train.astype('float32')\n",
    "x_test = x_test.astype('float32')\n",
    "x_train /= 255\n",
    "x_test /= 255\n",
    "\n",
    "if not data_augmentation:\n",
    "    print('Not using data augmentation.')\n",
    "    model.fit(x_train, y_train,\n",
    "              batch_size=batch_size,\n",
    "              epochs=epochs,\n",
    "              validation_data=(x_test, y_test),\n",
    "              shuffle=True)\n",
    "else:\n",
    "    print('Using real-time data augmentation.')\n",
    "    # This will do preprocessing and realtime data augmentation:\n",
    "    datagen = ImageDataGenerator(\n",
    "        featurewise_center=False,  # set input mean to 0 over the dataset\n",
    "        samplewise_center=False,  # set each sample mean to 0\n",
    "        featurewise_std_normalization=False,  # divide inputs by std of the dataset\n",
    "        samplewise_std_normalization=False,  # divide each input by its std\n",
    "        zca_whitening=False,  # apply ZCA whitening\n",
    "        rotation_range=0,  # randomly rotate images in the range (degrees, 0 to 180)\n",
    "        width_shift_range=0.1,  # randomly shift images horizontally (fraction of total width)\n",
    "        height_shift_range=0.1,  # randomly shift images vertically (fraction of total height)\n",
    "        horizontal_flip=True,  # randomly flip images\n",
    "        vertical_flip=False)  # randomly flip images\n",
    "\n",
    "    # Compute quantities required for feature-wise normalization\n",
    "    # (std, mean, and principal components if ZCA whitening is applied).\n",
    "    datagen.fit(x_train)\n",
    "\n",
    "    # Fit the model on the batches generated by datagen.flow().\n",
    "    model.fit(datagen.flow(x_train, y_train,\n",
    "                                     batch_size=batch_size),\n",
    "                        steps_per_epoch=x_train.shape[0] // batch_size,\n",
    "                        epochs=epochs,\n",
    "                        validation_data=(x_test, y_test))"
   ]
  },
  {
   "cell_type": "code",
   "execution_count": null,
   "metadata": {},
   "outputs": [],
   "source": [
    "# Save model and weights\n",
    "if not os.path.isdir(save_dir):\n",
    "    os.makedirs(save_dir)\n",
    "model_path = os.path.join(save_dir, model_name)\n",
    "model.save(model_path)\n",
    "print('Saved trained model at %s ' % model_path)"
   ]
  },
  {
   "cell_type": "code",
   "execution_count": 24,
   "metadata": {},
   "outputs": [
    {
     "name": "stdout",
     "output_type": "stream",
     "text": [
      "312/312 [==============================] - 7s 20ms/step - loss: 1.1890 - accuracy: 0.6505\n",
      "Model Accuracy = 0.65054\n"
     ]
    }
   ],
   "source": [
    "# Load label names to use in prediction results\n",
    "label_list_path = 'datasets/cifar-10-batches-py/batches.meta'\n",
    "\n",
    "\n",
    "keras_dir = os.path.expanduser(os.path.join('~', '.keras'))\n",
    "datadir_base = os.path.expanduser(keras_dir)\n",
    "if not os.access(datadir_base, os.W_OK):\n",
    "    datadir_base = os.path.join('/tmp', '.keras')\n",
    "label_list_path = os.path.join(datadir_base, label_list_path)\n",
    "\n",
    "with open(label_list_path, mode='rb') as f:\n",
    "    labels = pickle.load(f)\n",
    "\n",
    "# Evaluate model with test data set and share sample prediction results\n",
    "evaluation = model.evaluate(datagen.flow(x_test, y_test,\n",
    "                                      batch_size=batch_size),\n",
    "                                      steps=x_test.shape[0] // batch_size)\n",
    "\n",
    "print('Model Accuracy = %.5f' % (evaluation[1]))\n"
   ]
  },
  {
   "cell_type": "code",
   "execution_count": 25,
   "metadata": {},
   "outputs": [
    {
     "name": "stdout",
     "output_type": "stream",
     "text": [
      "312/312 [==============================] - 7s 21ms/step\n",
      "Actual Label = cat vs. Predicted Label = truck\n",
      "Actual Label = ship vs. Predicted Label = automobile\n",
      "Actual Label = ship vs. Predicted Label = ship\n",
      "Actual Label = airplane vs. Predicted Label = cat\n",
      "Actual Label = frog vs. Predicted Label = automobile\n",
      "Actual Label = frog vs. Predicted Label = airplane\n",
      "Actual Label = automobile vs. Predicted Label = airplane\n",
      "Actual Label = frog vs. Predicted Label = airplane\n",
      "Actual Label = cat vs. Predicted Label = automobile\n",
      "Actual Label = automobile vs. Predicted Label = ship\n",
      "Actual Label = airplane vs. Predicted Label = ship\n",
      "Actual Label = truck vs. Predicted Label = truck\n",
      "Actual Label = dog vs. Predicted Label = cat\n",
      "Actual Label = horse vs. Predicted Label = bird\n",
      "Actual Label = truck vs. Predicted Label = ship\n",
      "Actual Label = ship vs. Predicted Label = dog\n",
      "Actual Label = dog vs. Predicted Label = cat\n",
      "Actual Label = horse vs. Predicted Label = ship\n",
      "Actual Label = ship vs. Predicted Label = airplane\n",
      "Actual Label = frog vs. Predicted Label = airplane\n",
      "Actual Label = horse vs. Predicted Label = truck\n"
     ]
    }
   ],
   "source": [
    "f = open('CIFAR10_SELU_results.txt', 'a')\n",
    "f.write(' Test accuracy:' + str(evaluation[1]) +  '\\n')  \n",
    "f.close() \n",
    "\n",
    "predict_gen = model.predict(datagen.flow(x_test, y_test,\n",
    "                                      batch_size=batch_size),\n",
    "                                      steps=x_test.shape[0] // batch_size)\n",
    "\n",
    "for predict_index, predicted_y in enumerate(predict_gen):\n",
    "    actual_label = labels['label_names'][np.argmax(y_test[predict_index])]\n",
    "    predicted_label = labels['label_names'][np.argmax(predicted_y)]\n",
    "    print('Actual Label = %s vs. Predicted Label = %s' % (actual_label,\n",
    "                                                          predicted_label))\n",
    "    if predict_index == num_predictions:\n",
    "        break"
   ]
  },
  {
   "cell_type": "code",
   "execution_count": 28,
   "metadata": {},
   "outputs": [
    {
     "name": "stdout",
     "output_type": "stream",
     "text": [
      "312/312 [==============================] - 6s 19ms/step - loss: 1.0798 - accuracy: 0.8151\n",
      "Model Accuracy = 0.81510\n"
     ]
    }
   ],
   "source": [
    "# Load the saved model with 300 iterations and evaluation\n",
    "import tensorflow  as tf\n",
    "model = tf.keras.models.load_model('./saved_models/keras_cifar10_trained_model_300it.h5')\n",
    "\n",
    "evaluation = model.evaluate(datagen.flow(x_test, y_test,\n",
    "                                      batch_size=batch_size),\n",
    "                                      steps=x_test.shape[0] // batch_size)\n",
    "\n",
    "print('Model Accuracy = %.5f' % (evaluation[1]))\n"
   ]
  },
  {
   "cell_type": "code",
   "execution_count": null,
   "metadata": {},
   "outputs": [],
   "source": []
  }
 ],
 "metadata": {
  "kernelspec": {
   "display_name": "Python 3",
   "language": "python",
   "name": "python3"
  },
  "language_info": {
   "codemirror_mode": {
    "name": "ipython",
    "version": 3
   },
   "file_extension": ".py",
   "mimetype": "text/x-python",
   "name": "python",
   "nbconvert_exporter": "python",
   "pygments_lexer": "ipython3",
   "version": "3.11.2"
  }
 },
 "nbformat": 4,
 "nbformat_minor": 2
}
