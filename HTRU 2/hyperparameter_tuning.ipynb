{
 "cells": [
  {
   "cell_type": "code",
   "execution_count": 3,
   "metadata": {},
   "outputs": [
    {
     "ename": "ModuleNotFoundError",
     "evalue": "No module named 'keras.wrappers'",
     "output_type": "error",
     "traceback": [
      "\u001b[0;31m---------------------------------------------------------------------------\u001b[0m",
      "\u001b[0;31mModuleNotFoundError\u001b[0m                       Traceback (most recent call last)",
      "\u001b[1;32m/Users/JyotiSrivastava/Documents/smai/123/1234/project-team_hax/HTRU 2/hyperparameter_tuning.ipynb Cell 1\u001b[0m line \u001b[0;36m7\n\u001b[1;32m      <a href='vscode-notebook-cell:/Users/JyotiSrivastava/Documents/smai/123/1234/project-team_hax/HTRU%202/hyperparameter_tuning.ipynb#W0sZmlsZQ%3D%3D?line=4'>5</a>\u001b[0m \u001b[39mfrom\u001b[39;00m \u001b[39mkeras\u001b[39;00m\u001b[39m.\u001b[39;00m\u001b[39mmodels\u001b[39;00m \u001b[39mimport\u001b[39;00m Sequential\n\u001b[1;32m      <a href='vscode-notebook-cell:/Users/JyotiSrivastava/Documents/smai/123/1234/project-team_hax/HTRU%202/hyperparameter_tuning.ipynb#W0sZmlsZQ%3D%3D?line=5'>6</a>\u001b[0m \u001b[39mfrom\u001b[39;00m \u001b[39mtensorflow\u001b[39;00m\u001b[39m.\u001b[39;00m\u001b[39mkeras\u001b[39;00m\u001b[39m.\u001b[39;00m\u001b[39mlayers\u001b[39;00m \u001b[39mimport\u001b[39;00m LayerNormalization\n\u001b[0;32m----> <a href='vscode-notebook-cell:/Users/JyotiSrivastava/Documents/smai/123/1234/project-team_hax/HTRU%202/hyperparameter_tuning.ipynb#W0sZmlsZQ%3D%3D?line=6'>7</a>\u001b[0m \u001b[39mfrom\u001b[39;00m \u001b[39mkeras\u001b[39;00m\u001b[39m.\u001b[39;00m\u001b[39mwrappers\u001b[39;00m\u001b[39m.\u001b[39;00m\u001b[39mscikit_learn\u001b[39;00m \u001b[39mimport\u001b[39;00m KerasClassifier\n\u001b[1;32m      <a href='vscode-notebook-cell:/Users/JyotiSrivastava/Documents/smai/123/1234/project-team_hax/HTRU%202/hyperparameter_tuning.ipynb#W0sZmlsZQ%3D%3D?line=8'>9</a>\u001b[0m \u001b[39m# Assuming X_train, y_train, X_val, y_val, X_test, y_test are defined\u001b[39;00m\n\u001b[1;32m     <a href='vscode-notebook-cell:/Users/JyotiSrivastava/Documents/smai/123/1234/project-team_hax/HTRU%202/hyperparameter_tuning.ipynb#W0sZmlsZQ%3D%3D?line=10'>11</a>\u001b[0m \u001b[39mdef\u001b[39;00m \u001b[39mlayernorm_create_model\u001b[39m(num_layers\u001b[39m=\u001b[39m\u001b[39m1\u001b[39m, dropr\u001b[39m=\u001b[39m\u001b[39m0.1\u001b[39m, learning_rate\u001b[39m=\u001b[39m\u001b[39m0.001\u001b[39m):\n",
      "\u001b[0;31mModuleNotFoundError\u001b[0m: No module named 'keras.wrappers'"
     ]
    }
   ],
   "source": [
    "import numpy as np\n",
    "from sklearn.model_selection import GridSearchCV\n",
    "\n",
    "from keras.layers import Dense, Flatten, Dropout\n",
    "from keras.models import Sequential\n",
    "from tensorflow.keras.layers import LayerNormalization\n",
    "from keras.wrappers.scikit_learn import KerasClassifier\n",
    "\n",
    "# Assuming X_train, y_train, X_val, y_val, X_test, y_test are defined\n",
    "\n",
    "def layernorm_create_model(num_layers=1, dropr=0.1, learning_rate=0.001):\n",
    "    model = Sequential()\n",
    "    model.add(Flatten())\n",
    "\n",
    "    for _ in range(num_layers):\n",
    "        model.add(LayerNormalization())\n",
    "        model.add(Dense(512, activation='relu', kernel_initializer='lecun_normal', bias_initializer='zeros'))\n",
    "        model.add(Dropout(dropr))\n",
    "\n",
    "    model.add(Dense(1, activation='sigmoid'))\n",
    "    \n",
    "    optimizer = keras.optimizers.Adam(learning_rate=learning_rate)\n",
    "    model.compile(loss='binary_crossentropy', optimizer=optimizer, metrics=['accuracy'])\n",
    "    \n",
    "    return model\n",
    "\n",
    "# Convert Keras model to scikit-learn compatible model\n",
    "layernorm_classifier = KerasClassifier(build_fn=layernorm_create_model, epochs=10, batch_size=128, verbose=0)\n",
    "\n",
    "# Define hyperparameters for tuning\n",
    "param_grid = {\n",
    "    'num_layers': [1, 2, 3],\n",
    "    'dropr': [0.1, 0.2, 0.3],\n",
    "    'learning_rate': [0.001, 0.01, 0.1],\n",
    "    'batch_size': [32, 64, 128],\n",
    "    'epochs': [10, 20, 30]\n",
    "}\n",
    "\n",
    "# Create GridSearchCV\n",
    "grid = GridSearchCV(estimator=layernorm_classifier, param_grid=param_grid, scoring='accuracy', cv=3)\n",
    "grid_result = grid.fit(X_train, y_train)\n",
    "\n",
    "# Summarize results\n",
    "print(\"Best: %f using %s\" % (grid_result.best_score_, grid_result.best_params_))\n",
    "means = grid_result.cv_results_['mean_test_score']\n",
    "stds = grid_result.cv_results_['std_test_score']\n",
    "params = grid_result.cv_results_['params']\n",
    "\n",
    "for mean, stdev, param in zip(means, stds, params):\n",
    "    print(\"%f (%f) with: %r\" % (mean, stdev, param))\n",
    "\n",
    "# Get the best model\n",
    "best_model = grid_result.best_estimator_.model\n",
    "\n",
    "# Train and evaluate the best model\n",
    "best_model.fit(X_train, y_train, epochs=best_model.epochs, batch_size=best_model.batch_size, verbose=1, validation_data=(X_val, y_val))\n",
    "best_model_score = best_model.evaluate(X_test, y_test, verbose=0)\n",
    "print('Best Model Test loss:', best_model_score[0])\n",
    "print('Best Model Test accuracy:', best_model_score[1])"
   ]
  }
 ],
 "metadata": {
  "kernelspec": {
   "display_name": "Python 3",
   "language": "python",
   "name": "python3"
  },
  "language_info": {
   "codemirror_mode": {
    "name": "ipython",
    "version": 3
   },
   "file_extension": ".py",
   "mimetype": "text/x-python",
   "name": "python",
   "nbconvert_exporter": "python",
   "pygments_lexer": "ipython3",
   "version": "3.9.6"
  }
 },
 "nbformat": 4,
 "nbformat_minor": 2
}
